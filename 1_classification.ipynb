{
 "metadata": {
  "kernelspec": {
   "display_name": "Streamlit Notebook",
   "name": "streamlit"
  },
  "lastEditStatus": {
   "notebookId": "z6uokzeqspvmigcgumii",
   "authorId": "5994678780790",
   "authorName": "MLP_USER_3",
   "authorEmail": "",
   "sessionId": "9b4b4fed-641a-47db-8426-d77ed129e0f1",
   "lastEditTime": 1761087375172
  }
 },
 "nbformat_minor": 5,
 "nbformat": 4,
 "cells": [
  {
   "cell_type": "markdown",
   "id": "542c9333-892d-4230-92c5-8112dc891155",
   "metadata": {
    "collapsed": false,
    "name": "intro",
    "resultHeight": 352
   },
   "source": [
    "# Cvičení \n",
    "Cílem dnešního cvičení bude vyzkoušet si RAG.\n",
    "\n",
    "Snowflake nabízí širokou škálu LLM modelů. My budeme pracovat s modelem _llama3.1-8b_.\n",
    "\n",
    "## Část 1\n",
    "Model zvolený pro tuto část je naučen na datech do prosince 2023. Naším cílem nyní bude oklasifikovat informace k některým událostem z posledních dvou let, abychom model naučili nové informace.\n",
    "\n",
    "Před startem tohoto notebooku si ještě doinstalujte balíček _snowflake-ml-python_ - to provedete přes tlačítko _Packages_ napravo v horní liště stránky."
   ]
  },
  {
   "cell_type": "code",
   "execution_count": null,
   "id": "3775908f-ca36-4846-8f38-5adca39217f2",
   "metadata": {
    "collapsed": false,
    "language": "python",
    "name": "imports",
    "resultHeight": 0
   },
   "outputs": [],
   "source": [
    "import streamlit as st\n",
    "import json\n",
    "import pandas as pd\n",
    "\n",
    "from snowflake.snowpark.context import get_active_session\n",
    "from snowflake.snowpark.functions import col\n",
    "\n",
    "from snowflake.cortex import complete, CompleteOptions\n",
    "\n",
    "session = get_active_session()"
   ]
  },
  {
   "cell_type": "code",
   "execution_count": null,
   "id": "9cb86b1b-ac2c-4f85-ab25-de86d5a17d6e",
   "metadata": {
    "collapsed": false,
    "language": "python",
    "name": "helper_functions",
    "resultHeight": 0
   },
   "outputs": [],
   "source": [
    "# Pomocne fce\n",
    "\n",
    "# Pomocna funkce na prevedeni radku do JSON formatu\n",
    "def jsonify_row(row):\n",
    "    return json.dumps(row.as_dict(), indent=2, ensure_ascii=False)\n",
    "\n",
    "\n",
    "# Ocisteni uzivatelskeho jmena\n",
    "def user_suffix(session):\n",
    "    if name := session.get_current_user():\n",
    "        return name[1:-1]\n",
    "    # nemelo by nastat, ale at mame string\n",
    "    import random\n",
    "    return f\"NONE_{random.randint(1,1000)}\""
   ]
  },
  {
   "cell_type": "code",
   "execution_count": null,
   "id": "0196a552-3eb6-4724-bc92-0e4e08a0058d",
   "metadata": {
    "codeCollapsed": false,
    "collapsed": false,
    "language": "python",
    "name": "load_dataframes",
    "resultHeight": 0
   },
   "outputs": [],
   "source": [
    "categories = (\n",
    "    session\n",
    "    .table(\"NI_MLP_LAB.LAB.EVENT_CATEGORIES\")\n",
    "    .select(\n",
    "        col(\"CATEGORY_ID\").alias(\"ID\"),\n",
    "        col(\"CATEGORY_NAME\").alias(\"CATEGORY\")\n",
    "    )\n",
    ")\n",
    "\n",
    "events_24 = (\n",
    "    session\n",
    "    .table(\"NI_MLP_LAB.LAB.EVENTS\")\n",
    ")"
   ]
  },
  {
   "cell_type": "code",
   "execution_count": null,
   "id": "ae16657d-7f69-4fac-b0f9-55edaf7cfe01",
   "metadata": {
    "collapsed": false,
    "language": "python",
    "name": "show_categories",
    "resultHeight": 200
   },
   "outputs": [],
   "source": [
    "# Zobrazeni kategorii\n",
    "st.dataframe(categories, hide_index=True)"
   ]
  },
  {
   "cell_type": "code",
   "execution_count": null,
   "id": "c695373e-ac74-4b62-a1f1-08206cbd5c81",
   "metadata": {
    "codeCollapsed": false,
    "collapsed": false,
    "language": "python",
    "name": "show_events",
    "resultHeight": 375
   },
   "outputs": [],
   "source": [
    "# Zobrazeni letosnich udalosti\n",
    "st.dataframe(events_24.order_by(col(\"EVENT_ID\")))"
   ]
  },
  {
   "cell_type": "markdown",
   "id": "ec5a665b-d10d-43ed-afa1-652336dae750",
   "metadata": {
    "collapsed": false,
    "name": "cell1",
    "resultHeight": 387
   },
   "source": [
    "Připrav systémový a uživatelský prompt, který použijeme ke klasifikaci jednotlivých událostí do jedné ze čtyř kategorií z tabulky _CATEGORIES_2024_. \n",
    "\n",
    "Zadefinuj také, aby byla odpověď vrácena v tomto JSON formátu:\n",
    "```json\n",
    "{\n",
    "    \"data\": [\n",
    "        {\n",
    "            \"id\": \"Hodnota EVENT_ID pro danou událost\",\n",
    "            \"category\": \"Název kategorie (přesně jako je v CATEGORIES_2024)\"\n",
    "        }\n",
    "        ...\n",
    "    ]\n",
    "}\n",
    "```"
   ]
  },
  {
   "cell_type": "code",
   "execution_count": null,
   "id": "0aac6d8e-9ba8-4f1d-b20a-28ba567a6b65",
   "metadata": {
    "collapsed": false,
    "language": "python",
    "name": "system_prompt_spec",
    "resultHeight": 0
   },
   "outputs": [],
   "source": "system_prompt = \"\"\"\nFill in you prompt\n\"\"\""
  },
  {
   "cell_type": "code",
   "execution_count": null,
   "id": "7b30ca39-369d-4f29-96da-bd25134f92c7",
   "metadata": {
    "codeCollapsed": false,
    "collapsed": false,
    "language": "python",
    "name": "cell10",
    "resultHeight": 127
   },
   "outputs": [],
   "source": [
    "jsonify_row(events_24.first())"
   ]
  },
  {
   "cell_type": "code",
   "execution_count": null,
   "id": "44b12e70-7a14-4bc8-99d0-fd23db85f78b",
   "metadata": {
    "collapsed": false,
    "language": "python",
    "name": "cell8",
    "resultHeight": 0
   },
   "outputs": [],
   "source": "# Zapsani vsech udalosti ve formatu JSON, ktere muzete pouzit v uzivatelskem promptu\n# Samozrejme si muzete napsat i svoji vlastni serializaci\nall_events = \"\\n\".join(jsonify_row(row) for row in events_24.limit(3).collect())  # remove limit when you are confident\n\nuser_prompt = f\"\"\"\nFill in your prompt, probably also use all_events ...\n\"\"\""
  },
  {
   "cell_type": "code",
   "execution_count": null,
   "id": "e865ac4a-1525-46cc-b9cf-09e23df0e222",
   "metadata": {
    "codeCollapsed": false,
    "collapsed": false,
    "language": "python",
    "name": "cell13",
    "resultHeight": 866
   },
   "outputs": [],
   "source": [
    "user_prompt"
   ]
  },
  {
   "cell_type": "markdown",
   "id": "68daccf6-4635-40c4-834a-ed1941863cdb",
   "metadata": {
    "collapsed": false,
    "name": "cell14",
    "resultHeight": 313
   },
   "source": [
    "A nyní můžeme provolat LLM s našimi prompty. Zaexperimentujte si, jestli zvolený model bude správně kategorizovat a dodržovat požadovanou strukturu odpovědi při různých nastaveních hodnoty _temperature_ (musí být v intervalu <0,1>).\n",
    "\n",
    "Objekt _CompleteOptions_ akceptuje kromě parametru _temperature_ také parametry:\n",
    "- max_tokens\n",
    "- top_p\n",
    "\n",
    "Pro další podrobnosti k volání LLM modelů ve Snowparku si můžete prohlédnout dokumentaci:\n",
    "\n",
    "[snowflake.cortex.complete](https://docs.snowflake.com/en/developer-guide/snowpark-ml/reference/latest/api/cortex/snowflake.cortex.complete)\\\n",
    "[snowflake.cortex.CompleteOptions](https://docs.snowflake.com/en/developer-guide/snowpark-ml/reference/latest/api/cortex/snowflake.cortex.CompleteOptions#snowflake.cortex.CompleteOptions)\n",
    "\n"
   ]
  },
  {
   "cell_type": "code",
   "execution_count": null,
   "id": "b786194f-d21f-4e83-a1ad-96edddeadea8",
   "metadata": {
    "codeCollapsed": false,
    "collapsed": true,
    "language": "python",
    "name": "cell2",
    "resultHeight": 843
   },
   "outputs": [],
   "source": [
    "system_prompt"
   ]
  },
  {
   "cell_type": "code",
   "execution_count": null,
   "id": "41318dfb-aa68-425a-8b0b-56862fa4e5c3",
   "metadata": {
    "codeCollapsed": false,
    "collapsed": false,
    "language": "python",
    "name": "cell11",
    "resultHeight": 0
   },
   "outputs": [],
   "source": [
    "model = \"llama3.1-8b\"\n",
    "options = CompleteOptions(temperature=0.0)\n",
    "\n",
    "classification = complete(\n",
    "    model,\n",
    "    [\n",
    "        {\"role\": \"system\", \"content\": system_prompt},\n",
    "        {\"role\": \"user\", \"content\": user_prompt},\n",
    "    ],\n",
    "    options=options\n",
    ")"
   ]
  },
  {
   "cell_type": "code",
   "execution_count": null,
   "id": "660a83e0-6bde-43bd-91b1-081df733a69f",
   "metadata": {
    "codeCollapsed": false,
    "collapsed": false,
    "language": "python",
    "name": "cell12",
    "resultHeight": 927
   },
   "outputs": [],
   "source": "classification"
  },
  {
   "cell_type": "markdown",
   "id": "f52f5608-e409-43f1-b511-acc72df60f66",
   "metadata": {
    "collapsed": false,
    "name": "cell4",
    "resultHeight": 67
   },
   "source": [
    "V dalších buňkách zpracujeme odpověď z LLM modelu. Předpokládáme, že formát odpovídá požadované struktuře - pokud ne, pravděpodobně to na něčem spadne :)"
   ]
  },
  {
   "cell_type": "code",
   "execution_count": null,
   "id": "0f4dcfbb-62c7-42b4-9c67-9f8b68403285",
   "metadata": {
    "collapsed": false,
    "language": "python",
    "name": "cell3",
    "resultHeight": 0
   },
   "outputs": [],
   "source": [
    "# TODO: Trochu hloupa loads a dumps gymnastika\n",
    "class_json_with_schema = json.loads(classification)\n",
    "class_json_with_schema[\"schema\"] = {\n",
    "    \"fields\": [\n",
    "        {\n",
    "            \"name\": \"event_id\",\n",
    "            \"type\": \"integer\"\n",
    "        },\n",
    "        {\n",
    "            \"name\": \"category\",\n",
    "            \"type\": \"string\"\n",
    "        },\n",
    "    ],\n",
    "    \"primaryKey\": [\"event_id\"]\n",
    "}\n",
    "\n",
    "classification_pd = pd.json_normalize(\n",
    "    json.loads(classification)[\"data\"], \n",
    "    max_level=0\n",
    ")"
   ]
  },
  {
   "cell_type": "code",
   "execution_count": null,
   "id": "0b9c1926-b721-4560-8af3-9efb53277659",
   "metadata": {
    "collapsed": false,
    "language": "python",
    "name": "cell18",
    "resultHeight": 391
   },
   "outputs": [],
   "source": "# Workaround na bug s pridavanim uvozovek do nazvu sloupcu, kvuli kteremu pak \n# nefunguje dobre select sloupcu po joinu\nuser_tables_suffix = user_suffix(session)\nclassification_tmp_table = f\"CLASS_TMP_{user_tables_suffix}\"\n\nsession.write_pandas(\n    classification_pd, \n    classification_tmp_table,\n    database=\"NI_MLP_LAB\",\n    schema=user_tables_suffix,\n    quote_identifiers=False,\n    auto_create_table=True,\n    overwrite=True,\n    table_type=\"temporary\"\n)"
  },
  {
   "cell_type": "code",
   "execution_count": null,
   "id": "ce5eb4a0-6eaa-4a86-91d7-670fe9bc21a4",
   "metadata": {
    "collapsed": false,
    "language": "python",
    "name": "cell16",
    "resultHeight": 0
   },
   "outputs": [],
   "source": [
    "classification_sp = session.read.table(classification_tmp_table)\n",
    "\n",
    "output_table = (\n",
    "    classification_sp.alias(\"csp\")\n",
    "    .join(\n",
    "        events_24.alias(\"e24\"),\n",
    "        [\"event_id\"]\n",
    "    )\n",
    "    .join(\n",
    "        categories.alias(\"cat\"),\n",
    "        [\"category\"]\n",
    "    )\n",
    "    .select(\n",
    "        col(\"cat\", \"id\").alias(\"CATEGORY_ID\"),\n",
    "        col(\"CATEGORY\"),\n",
    "        col(\"EVENT_ID\"),\n",
    "        col(\"EVENT_TEXT\")\n",
    "    )\n",
    ")"
   ]
  },
  {
   "cell_type": "code",
   "execution_count": null,
   "id": "9c57d984-a476-4ff8-b6b7-8458d6feeaa7",
   "metadata": {
    "collapsed": false,
    "language": "python",
    "name": "cell15",
    "resultHeight": 375
   },
   "outputs": [],
   "source": [
    "# Zobrazime si nase vysledky\n",
    "# Pokud dostaneme prazdny vysledek, pravdepdobne bude problem v joinu na kategorizaci.\n",
    "# Pouziva totiz join na presny nazev kategorie, takze mu muzou vadit napr. i bile znaky navic\n",
    "# V tomto pripade si zkuste spustit predchozi bunku bez joinu na kategorie, jestli vam to projde,\n",
    "# pokud ano, tak zkuste zacistit jmena kategorii z klasifikatoru nebu upravte prompty.\n",
    "\n",
    "st.dataframe(output_table.orderBy(\"CATEGORY_ID\", \"EVENT_ID\"))"
   ]
  },
  {
   "cell_type": "markdown",
   "id": "ca1183e0-30cf-4dc1-842c-c2d60945d33a",
   "metadata": {
    "collapsed": false,
    "name": "cell7",
    "resultHeight": 67
   },
   "source": [
    "Pokud jsme s výsledkem kategorizace spokojeni, uložíme si ho do pomocné tabulky a ještě ho otestujeme vůči kontrolní funkci. Pokud nám test projde, můžeme pokračovat do dalšího notebooku."
   ]
  },
  {
   "cell_type": "code",
   "execution_count": null,
   "id": "d4b3d49f-f703-4ce0-8ff1-51250e389646",
   "metadata": {
    "language": "python",
    "name": "cell9"
   },
   "outputs": [],
   "source": "# pokud chcete prepsat existujici tabulku, nastavte mode=\"overwrite\"\ncategorization_table = f\"NI_MLP_LAB.{user_tables_suffix}.EVENT_CATEGORIZATION_{user_tables_suffix}\"\n\noutput_table.write.save_as_table(\n    categorization_table,\n    mode=\"overwrite\",\n)"
  },
  {
   "cell_type": "code",
   "execution_count": null,
   "id": "a5f8e842-9925-4f3d-9795-d22511a05f5c",
   "metadata": {
    "language": "sql",
    "name": "cell5"
   },
   "outputs": [],
   "source": [
    "-- Zavolame kontrolni proceduru\n",
    "CALL NI_MLP_LAB.LAB.control_classification(\n",
    "    SYSTEM$REFERENCE('TABLE', '{{categorization_table}}', 'SESSION', 'SELECT')\n",
    ");"
   ]
  },
  {
   "cell_type": "code",
   "execution_count": null,
   "id": "87b32dde-5b1c-497a-b5e7-0ee12fb241ed",
   "metadata": {
    "language": "python",
    "name": "cell6"
   },
   "outputs": [],
   "source": [
    "# If needed, we may get result of previous SQL cell to Python like this\n",
    "control_df = cell5.to_df()\n",
    "control_df.where(col(\"IS_CORRECT\") == False)"
   ]
  }
 ]
}
