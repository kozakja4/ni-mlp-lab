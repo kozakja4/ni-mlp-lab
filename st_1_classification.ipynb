{
 "cells": [
  {
   "cell_type": "markdown",
   "id": "542c9333-892d-4230-92c5-8112dc891155",
   "metadata": {
    "collapsed": false,
    "name": "intro",
    "resultHeight": 352
   },
   "source": [
    "# Cvičení \n",
    "Cílem dnešního cvičení bude vyzkoušet si RAG.\n",
    "\n",
    "Snowflake nabízí širokou škálu LLM modelů. My budeme pracovat s modelem _llama3.1-8b_.\n",
    "\n",
    "## Část 1\n",
    "Model zvolený pro tuto část je naučen na datech do prosince 2023. Naším cílem nyní bude oklasifikovat informace k některým událostem z letošního roku, abychom model naučili nové informace.\n",
    "\n",
    "Před startem tohoto notebooku si ještě doinstalujte balíček _snowflake-ml-python_ - to provedete přes tlačítko _Packages_ napravo v horní liště stránky."
   ]
  },
  {
   "cell_type": "code",
   "execution_count": null,
   "id": "3775908f-ca36-4846-8f38-5adca39217f2",
   "metadata": {
    "collapsed": false,
    "language": "python",
    "name": "imports",
    "resultHeight": 0
   },
   "outputs": [],
   "source": [
    "import streamlit as st\n",
    "import json\n",
    "import pandas as pd\n",
    "\n",
    "from snowflake.snowpark.context import get_active_session\n",
    "from snowflake.snowpark.functions import col\n",
    "\n",
    "from snowflake.cortex import complete, CompleteOptions\n",
    "\n",
    "session = get_active_session()"
   ]
  },
  {
   "cell_type": "code",
   "execution_count": null,
   "id": "9cb86b1b-ac2c-4f85-ab25-de86d5a17d6e",
   "metadata": {
    "collapsed": false,
    "language": "python",
    "name": "helper_functions",
    "resultHeight": 0
   },
   "outputs": [],
   "source": [
    "# Pomocne fce\n",
    "\n",
    "# Pomocna funkce na prevedeni radku do JSON formatu\n",
    "def jsonify_row(row):\n",
    "    return json.dumps(row.as_dict(), indent=2, ensure_ascii=False)\n",
    "\n",
    "\n",
    "# Ocisteni uzivatelskeho jmena\n",
    "def user_suffix(session):\n",
    "    if name := session.get_current_user():\n",
    "        return name[1:-1]\n",
    "    # nemelo by nastat, ale at mame string\n",
    "    import random\n",
    "    return f\"NONE_{random.randint(1,1000)}\""
   ]
  },
  {
   "cell_type": "code",
   "execution_count": null,
   "id": "0196a552-3eb6-4724-bc92-0e4e08a0058d",
   "metadata": {
    "codeCollapsed": false,
    "collapsed": false,
    "language": "python",
    "name": "load_dataframes",
    "resultHeight": 0
   },
   "outputs": [],
   "source": [
    "categories = (\n",
    "    session\n",
    "    .table(\"NI_MLP_LAB.LAB.EVENT_CATEGORIES\")\n",
    "    .select(\n",
    "        col(\"CATEGORY_ID\").alias(\"ID\"),\n",
    "        col(\"CATEGORY_NAME\").alias(\"CATEGORY\")\n",
    "    )\n",
    ")\n",
    "\n",
    "events_24 = (\n",
    "    session\n",
    "    .table(\"NI_MLP_LAB.LAB.EVENTS\")\n",
    ")"
   ]
  },
  {
   "cell_type": "code",
   "execution_count": null,
   "id": "ae16657d-7f69-4fac-b0f9-55edaf7cfe01",
   "metadata": {
    "collapsed": false,
    "language": "python",
    "name": "show_categories",
    "resultHeight": 200
   },
   "outputs": [],
   "source": [
    "# Zobrazeni kategorii\n",
    "st.dataframe(categories, hide_index=True)"
   ]
  },
  {
   "cell_type": "code",
   "execution_count": null,
   "id": "c695373e-ac74-4b62-a1f1-08206cbd5c81",
   "metadata": {
    "codeCollapsed": false,
    "collapsed": false,
    "language": "python",
    "name": "show_events",
    "resultHeight": 375
   },
   "outputs": [],
   "source": [
    "# Zobrazeni letosnich udalosti\n",
    "st.dataframe(events_24.order_by(col(\"EVENT_ID\")))"
   ]
  },
  {
   "cell_type": "markdown",
   "id": "ec5a665b-d10d-43ed-afa1-652336dae750",
   "metadata": {
    "collapsed": false,
    "name": "cell1",
    "resultHeight": 387
   },
   "source": [
    "Připrav systémový a uživatelský prompt, který použijeme ke klasifikaci jednotlivých událostí do jedné ze čtyř kategorií z tabulky _CATEGORIES_2024_. \n",
    "\n",
    "Zadefinuj také, aby byla odpověď vrácena v tomto JSON formátu:\n",
    "```json\n",
    "{\n",
    "    \"data\": [\n",
    "        {\n",
    "            \"id\": \"Hodnota EVENT_ID pro danou událost\",\n",
    "            \"category\": \"Název kategorie (přesně jako je v CATEGORIES_2024)\"\n",
    "        }\n",
    "        ...\n",
    "    ]\n",
    "}\n",
    "```"
   ]
  },
  {
   "cell_type": "code",
   "execution_count": null,
   "id": "0aac6d8e-9ba8-4f1d-b20a-28ba567a6b65",
   "metadata": {
    "collapsed": false,
    "language": "python",
    "name": "system_prompt_spec",
    "resultHeight": 0
   },
   "outputs": [],
   "source": [
    "system_prompt = \"\"\"\n",
    "Finish your system prompt. Remember to specify output format.\n",
    "\"\"\""
   ]
  },
  {
   "cell_type": "code",
   "execution_count": null,
   "id": "7b30ca39-369d-4f29-96da-bd25134f92c7",
   "metadata": {
    "collapsed": false,
    "language": "python",
    "name": "cell10",
    "resultHeight": 127
   },
   "outputs": [],
   "source": [
    "jsonify_row(events_24.first())"
   ]
  },
  {
   "cell_type": "code",
   "execution_count": null,
   "id": "44b12e70-7a14-4bc8-99d0-fd23db85f78b",
   "metadata": {
    "collapsed": false,
    "language": "python",
    "name": "cell8",
    "resultHeight": 0
   },
   "outputs": [],
   "source": [
    "# Zapsani vsech udalosti ve formatu JSON, ktere muzete pouzit v uzivatelskem promptu\n",
    "# Samozrejme si muzete napsat i svoji vlastni serializaci\n",
    "all_events = \"\\n\".join(jsonify_row(row) for row in events_24.collect())\n",
    "\n",
    "user_prompt = f\"\"\"\n",
    "Specify your user_prompt\n",
    "\"\"\""
   ]
  },
  {
   "cell_type": "code",
   "execution_count": null,
   "id": "e865ac4a-1525-46cc-b9cf-09e23df0e222",
   "metadata": {
    "collapsed": false,
    "language": "python",
    "name": "cell13",
    "resultHeight": 866
   },
   "outputs": [],
   "source": [
    "user_prompt"
   ]
  },
  {
   "cell_type": "markdown",
   "id": "68daccf6-4635-40c4-834a-ed1941863cdb",
   "metadata": {
    "collapsed": false,
    "name": "cell14",
    "resultHeight": 313
   },
   "source": [
    "A nyní můžeme provolat LLM s našimi prompty. Zaexperimentujte si, jestli zvolený model bude správně kategorizovat a dodržovat požadovanou strukturu odpovědi při různých nastaveních hodnoty _temperature_ (musí být v intervalu <0,1>).\n",
    "\n",
    "Objekt _CompleteOptions_ akceptuje kromě parametru _temperature_ také parametry:\n",
    "- max_tokens\n",
    "- top_p\n",
    "\n",
    "Pro další podrobnosti k volání LLM modelů ve Snowparku si můžete prohlédnout dokumentaci:\n",
    "\n",
    "[snowflake.cortex.Complete](https://docs.snowflake.com/en/developer-guide/snowpark-ml/reference/latest/api/cortex/snowflake.cortex.Complete)\\\n",
    "[snowflake.cortex.CompleteOptions](https://docs.snowflake.com/en/developer-guide/snowpark-ml/reference/latest/api/cortex/snowflake.cortex.CompleteOptions#snowflake.cortex.CompleteOptions)\n",
    "\n"
   ]
  },
  {
   "cell_type": "code",
   "execution_count": null,
   "id": "b786194f-d21f-4e83-a1ad-96edddeadea8",
   "metadata": {
    "collapsed": false,
    "language": "python",
    "name": "cell2",
    "resultHeight": 843
   },
   "outputs": [],
   "source": [
    "system_prompt"
   ]
  },
  {
   "cell_type": "code",
   "execution_count": null,
   "id": "41318dfb-aa68-425a-8b0b-56862fa4e5c3",
   "metadata": {
    "codeCollapsed": false,
    "collapsed": false,
    "language": "python",
    "name": "cell11",
    "resultHeight": 0
   },
   "outputs": [],
   "source": [
    "model = \"llama3.1-8b\"\n",
    "options = CompleteOptions(temperature=0.0)\n",
    "\n",
    "classification = complete(\n",
    "    model,\n",
    "    [\n",
    "        {\"role\": \"system\", \"content\": system_prompt},\n",
    "        {\"role\": \"user\", \"content\": user_prompt},\n",
    "    ],\n",
    "    options=options\n",
    ")"
   ]
  },
  {
   "cell_type": "code",
   "execution_count": null,
   "id": "660a83e0-6bde-43bd-91b1-081df733a69f",
   "metadata": {
    "collapsed": false,
    "language": "python",
    "name": "cell12",
    "resultHeight": 927
   },
   "outputs": [],
   "source": [
    "classification"
   ]
  },
  {
   "cell_type": "markdown",
   "id": "f52f5608-e409-43f1-b511-acc72df60f66",
   "metadata": {
    "collapsed": false,
    "name": "cell4",
    "resultHeight": 67
   },
   "source": [
    "V dalších buňkách zpracujeme odpověď z LLM modelu. Předpokládáme, že formát odpovídá požadované struktuře - pokud ne, pravděpodobně to na něčem spadne :)"
   ]
  },
  {
   "cell_type": "code",
   "execution_count": null,
   "id": "0f4dcfbb-62c7-42b4-9c67-9f8b68403285",
   "metadata": {
    "collapsed": false,
    "language": "python",
    "name": "cell3",
    "resultHeight": 0
   },
   "outputs": [],
   "source": [
    "# TODO: Trochu hloupa loads a dumps gymnastika\n",
    "class_json_with_schema = json.loads(classification)\n",
    "class_json_with_schema[\"schema\"] = {\n",
    "    \"fields\": [\n",
    "        {\n",
    "            \"name\": \"event_id\",\n",
    "            \"type\": \"integer\"\n",
    "        },\n",
    "        {\n",
    "            \"name\": \"category\",\n",
    "            \"type\": \"string\"\n",
    "        },\n",
    "    ],\n",
    "    \"primaryKey\": [\"event_id\"]\n",
    "}\n",
    "\n",
    "classification_pd = pd.json_normalize(\n",
    "    json.loads(classification)[\"data\"], \n",
    "    max_level=0\n",
    ")"
   ]
  },
  {
   "cell_type": "code",
   "execution_count": null,
   "id": "0b9c1926-b721-4560-8af3-9efb53277659",
   "metadata": {
    "collapsed": false,
    "language": "python",
    "name": "cell18",
    "resultHeight": 391
   },
   "outputs": [],
   "source": [
    "# Workaround na bug s pridavanim uvozovek do nazvu sloupcu, kvuli kteremu pak \n",
    "# nefunguje dobre select sloupcu po joinu\n",
    "user_tables_suffix = user_suffix(session)\n",
    "classification_tmp_table = f\"CLASS_TMP_{user_tables_suffix}\"\n",
    "\n",
    "session.write_pandas(\n",
    "    classification_pd, \n",
    "    classification_tmp_table,\n",
    "    database=\"NI_MLP_LAB\",\n",
    "    schema=f\"MLP_{user_tables_suffix}\",\n",
    "    quote_identifiers=False,\n",
    "    auto_create_table=True,\n",
    "    overwrite=True,\n",
    "    table_type=\"temporary\"\n",
    ")"
   ]
  },
  {
   "cell_type": "code",
   "execution_count": null,
   "id": "ce5eb4a0-6eaa-4a86-91d7-670fe9bc21a4",
   "metadata": {
    "collapsed": false,
    "language": "python",
    "name": "cell16",
    "resultHeight": 0
   },
   "outputs": [],
   "source": [
    "classification_sp = session.read.table(classification_tmp_table)\n",
    "\n",
    "output_table = (\n",
    "    classification_sp.alias(\"csp\")\n",
    "    .join(\n",
    "        events_24.alias(\"e24\"),\n",
    "        [\"event_id\"]\n",
    "    )\n",
    "    .join(\n",
    "        categories.alias(\"cat\"),\n",
    "        [\"category\"]\n",
    "    )\n",
    "    .select(\n",
    "        col(\"cat\", \"id\").alias(\"CATEGORY_ID\"),\n",
    "        col(\"CATEGORY\"),\n",
    "        col(\"EVENT_ID\"),\n",
    "        col(\"EVENT_TEXT\")\n",
    "    )\n",
    ")"
   ]
  },
  {
   "cell_type": "code",
   "execution_count": null,
   "id": "9c57d984-a476-4ff8-b6b7-8458d6feeaa7",
   "metadata": {
    "collapsed": false,
    "language": "python",
    "name": "cell15",
    "resultHeight": 375
   },
   "outputs": [],
   "source": [
    "# Zobrazime si nase vysledky\n",
    "# Pokud dostaneme prazdny vysledek, pravdepdobne bude problem v joinu na kategorizaci.\n",
    "# Pouziva totiz join na presny nazev kategorie, takze mu muzou vadit napr. i bile znaky navic\n",
    "# V tomto pripade si zkuste spustit predchozi bunku bez joinu na kategorie, jestli vam to projde,\n",
    "# pokud ano, tak zkuste zacistit jmena kategorii z klasifikatoru nebu upravte prompty.\n",
    "\n",
    "st.dataframe(output_table.orderBy(\"CATEGORY_ID\", \"EVENT_ID\"))"
   ]
  },
  {
   "cell_type": "markdown",
   "id": "ca1183e0-30cf-4dc1-842c-c2d60945d33a",
   "metadata": {
    "collapsed": false,
    "name": "cell7",
    "resultHeight": 67
   },
   "source": [
    "Pokud jsme s výsledkem kategorizace spokojeni, uložíme si ho do pomocné tabulky a můžeme pokračovat do dalšího notebooku."
   ]
  },
  {
   "cell_type": "code",
   "execution_count": null,
   "id": "be4fc85d-c4c5-4a15-8572-2635321b54da",
   "metadata": {
    "collapsed": false,
    "language": "python",
    "name": "save_categorization",
    "resultHeight": 1069
   },
   "outputs": [],
   "source": [
    "# pokud chcete prepsat existujici tabulku, nastavte mode=\"overwrite\"\n",
    "categorization_table = f\"EVENT_CATEGORIZATION_{user_tables_suffix}\"\n",
    "\n",
    "output_table.write.saveAsTable(\n",
    "    categorization_table,\n",
    "    mode=\"errorifexists\",\n",
    ")"
   ]
  }
 ],
 "metadata": {
  "kernelspec": {
   "display_name": "Streamlit Notebook",
   "name": "streamlit"
  }
 },
 "nbformat": 4,
 "nbformat_minor": 5
}
